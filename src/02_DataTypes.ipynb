{
 "cells": [
  {
   "cell_type": "markdown",
   "metadata": {},
   "source": [
    "# Data Types [demonstration]\n",
    "Explore how **strings**, **numbers**, and **booleans** are defined in Python."
   ]
  },
  {
   "metadata": {},
   "cell_type": "markdown",
   "source": [
    "### 1. **Strings in Python**\n",
    "- Strings are sequences of characters enclosed in single, double, or triple quotes.\n",
    "- They can store text, including letters, numbers, and symbols.\n",
    "- Strings are **immutable**, meaning once created, their content cannot be changed.\n",
    "\n"
   ]
  },
  {
   "cell_type": "code",
   "metadata": {
    "ExecuteTime": {
     "end_time": "2024-10-17T16:38:55.815292Z",
     "start_time": "2024-10-17T16:38:55.812673Z"
    }
   },
   "source": [
    "#### **Examples:**\n",
    "\n",
    "# Using single quotes\n",
    "name = 'Truc Huynh'\n",
    "\n",
    "# Using double quotes\n",
    "greeting = \"Hello, World!\"\n",
    "\n",
    "# Using triple quotes for multi-line strings\n",
    "description = \"\"\"This is a \n",
    "multi-line string in Python.\"\"\"\n",
    "\n",
    "print(name, greeting, description, sep=\"\\n\")"
   ],
   "outputs": [],
   "execution_count": 4
  },
  {
   "metadata": {},
   "cell_type": "code",
   "outputs": [],
   "execution_count": null,
   "source": [
    "#### **Common Operations:**\n",
    "\n",
    "# Concatenation\n",
    "full_name = \"Truc\" + \" \" + \"Huynh\"  # 'Truc Huynh'\n",
    "\n",
    "# String length\n",
    "length = len(name)  # 10\n",
    "\n",
    "# Accessing characters\n",
    "first_char = name[0]  # 'T'"
   ]
  },
  {
   "metadata": {},
   "cell_type": "markdown",
   "source": [
    "### 2. **Numbers in Python**\n",
    "Python supports multiple numerical types, the most common being:\n",
    "- **Integers** (`int`) – whole numbers (positive, negative, or zero).\n",
    "- **Floating-point numbers** (`float`) – numbers with a decimal point.\n",
    "- **Complex numbers** (`complex`) – numbers with real and imaginary parts.\n",
    "\n"
   ]
  },
  {
   "cell_type": "code",
   "metadata": {
    "ExecuteTime": {
     "end_time": "2024-10-17T16:49:21.261899Z",
     "start_time": "2024-10-17T16:49:21.257117Z"
    }
   },
   "source": [
    "#### **Examples:**\n",
    "\n",
    "# FLOAT\n",
    "\n",
    "my_float    = 0.5\n",
    "my_integer  = 7\n",
    "my_negative = -3.5 \n",
    "my_fraction = 1/2\n",
    "\n",
    "does_half_equal_point_five = (my_fraction == my_float)\n",
    "\n",
    "print(\"The absolute value of\", my_negative, \"is\", abs(my_negative))\n",
    "print(my_integer, \"squared is equal to\", my_integer ** 2)\n",
    "print(\"Does\", my_fraction, \"equal\", my_float, \"?\", does_half_equal_point_five)"
   ],
   "outputs": [
    {
     "name": "stdout",
     "output_type": "stream",
     "text": [
      "The absolute value of -3.5 is 3.5\n",
      "7 squared is equal to 49\n",
      "Does 0.5 equal 0.5 ? True\n"
     ]
    }
   ],
   "execution_count": 7
  },
  {
   "cell_type": "code",
   "metadata": {
    "collapsed": true,
    "ExecuteTime": {
     "end_time": "2024-10-17T17:01:55.778143Z",
     "start_time": "2024-10-17T17:01:55.774011Z"
    }
   },
   "source": [
    "# Integer\n",
    "age = 36\n",
    "\n",
    "# Floating-point\n",
    "pi = 3.14159\n",
    "\n",
    "# Complex number\n",
    "z = 2 + 3j  # 2 is the real part, 3j is the imaginary part"
   ],
   "outputs": [
    {
     "name": "stdout",
     "output_type": "stream",
     "text": [
      "36 3.14159 (2+3j)\n"
     ]
    }
   ],
   "execution_count": 11
  },
  {
   "metadata": {
    "ExecuteTime": {
     "end_time": "2024-10-17T17:09:36.270222Z",
     "start_time": "2024-10-17T17:09:36.265262Z"
    }
   },
   "cell_type": "code",
   "source": [
    "#### **Common Operations:**\n",
    "# Arithmetic operations\n",
    "result = 5 + 3  # Addition: 8\n",
    "difference = 5 - 3  # Subtraction: 2\n",
    "product = 5 * 3  # Multiplication: 15\n",
    "quotient = 5 / 2  # Division: 2.5\n",
    "\n",
    "# Integer division\n",
    "floor_div = 5 // 2  # 2\n",
    "\n",
    "# Modulus (remainder)\n",
    "remainder = 5 % 2  # 1\n",
    "\n",
    "# Exponentiation\n",
    "power = 2 ** 3  # 8\n",
    "print(remainder, power, result, difference, quotient, floor_div, sep=\"\\n\")\n"
   ],
   "outputs": [
    {
     "name": "stdout",
     "output_type": "stream",
     "text": [
      "1\n",
      "8\n",
      "8\n",
      "2\n",
      "2.5\n",
      "2\n"
     ]
    }
   ],
   "execution_count": 14
  },
  {
   "metadata": {},
   "cell_type": "markdown",
   "source": [
    "### 3. **Booleans in Python**\n",
    "- Booleans represent **True** or **False** values.\n",
    "- They are often used in conditional statements to control the flow of the program.\n"
   ]
  },
  {
   "metadata": {
    "ExecuteTime": {
     "end_time": "2024-10-17T18:43:40.753407Z",
     "start_time": "2024-10-17T18:43:40.747428Z"
    }
   },
   "cell_type": "code",
   "source": [
    "#### **Examples:**\n",
    "# Boolean values\n",
    "is_student = True\n",
    "has_passed = False\n"
   ],
   "outputs": [],
   "execution_count": 15
  },
  {
   "metadata": {},
   "cell_type": "code",
   "outputs": [],
   "execution_count": null,
   "source": [
    "#### **Boolean Operations:**\n",
    "\n",
    "# Logical AND\n",
    "result = True and False  # False\n",
    "\n",
    "# Logical OR\n",
    "result = True or False  # True\n",
    "\n",
    "# Logical NOT\n",
    "result = not True  # False\n",
    "\n",
    "#### **Comparison Operations:**\n",
    "\n",
    "# Equal to\n",
    "is_equal = (5 == 5)  # True\n",
    "\n",
    "# Not equal to\n",
    "is_not_equal = (5 != 3)  # True\n",
    "\n",
    "# Greater than\n",
    "is_greater = (5 > 3)  # True\n",
    "\n",
    "# Less than or equal to\n",
    "is_less_or_equal = (5 <= 5)  # True"
   ]
  },
  {
   "metadata": {},
   "cell_type": "markdown",
   "source": [
    "### Summary:\n",
    "- **Strings** store text and are immutable.\n",
    "- **Numbers** can be integers, floats, or complex numbers with various arithmetic operations.\n",
    "- **Booleans** hold `True` or `False` values and are useful in control flow and logic."
   ]
  }
 ],
 "metadata": {
  "kernelspec": {
   "display_name": "Python 3",
   "language": "python",
   "name": "python3"
  },
  "language_info": {
   "codemirror_mode": {
    "name": "ipython",
    "version": 3
   },
   "file_extension": ".py",
   "mimetype": "text/x-python",
   "name": "python",
   "nbconvert_exporter": "python",
   "pygments_lexer": "ipython3",
   "version": "3.6.3"
  }
 },
 "nbformat": 4,
 "nbformat_minor": 2
}
