{
 "cells": [
  {
   "cell_type": "markdown",
   "metadata": {},
   "source": [
    "# Problems with your probability_uniform Function\n",
    "\n",
    "Your `probability_uniform` function should work at this point. But, you might run into a couple of problems. \n",
    "\n",
    "1. What happens if you call your function like this: `probability_range(35, 20, 0, 360)` ?\n",
    "2. What happens if you input an angle that is outside the possibilities of the bottle's possible outcomes like probability_range(-25, 390, 0, 360)?\n",
    "3. What if you call your function like this: probability_range('a', 'b', 0, 360)?\n",
    "\n",
    "When writing functions, it's important to think of edge cases or incorrect user input. \n",
    "\n",
    "# Your Task\n",
    "\n",
    "Your task is to improve your function. Let's make these changes one step at a time. \n",
    "\n",
    "# Task One\n",
    "\n",
    "Make sure the function outputs a valid probability when low_range is greater than high_range.\n",
    "\n",
    "There is more than one way to go about this. You could:\n",
    "1. Calculate the absolute value of high_range - low_range \n",
    "2. Use if statements to compare low_range and high_range to see which one is greater\n",
    "\n",
    "Here is a [link](https://docs.python.org/2/library/functions.html#abs) to using Python's absolute value function.\n",
    "\n",
    "Fill out the TODOs below."
   ]
  },
  {
   "cell_type": "code",
   "execution_count": 1,
   "metadata": {},
   "outputs": [],
   "source": [
    "def probability_range_improved(low_range, high_range, minimum, maximum):\n",
    "    \n",
    "    return abs(high_range - low_range) / (maximum - minimum) "
   ]
  },
  {
   "cell_type": "markdown",
   "metadata": {},
   "source": [
    "Run the cell below to see if your function works as expected."
   ]
  },
  {
   "cell_type": "code",
   "execution_count": 2,
   "metadata": {},
   "outputs": [
    {
     "name": "stdout",
     "output_type": "stream",
     "text": [
      "Nice work!\n"
     ]
    }
   ],
   "source": [
    "assert \"{0:.2f}\".format(probability_range_improved(25, 700, 5, 800)) == '0.85'\n",
    "assert \"{0:.2f}\".format(probability_range_improved(700, 25, 5, 800)) == '0.85'\n",
    "print('Nice work!')"
   ]
  },
  {
   "cell_type": "markdown",
   "metadata": {},
   "source": [
    "# Task Two\n",
    "\n",
    "Check the inputs to the function to make sure they are not strings. If the user inputted a string, the function should return None. \n",
    "\n",
    "This exercise might seem trivial, but if you try to do something like `'my_string'/2` in Python, you will get an error. Debugging the errors and avoiding them is a key programming skill. \n",
    "\n",
    "Hint: Use the Python isinstance() function. If you're not sure how to use this function, search for it online.\n",
    "\n",
    "Hint: Use your code from Task One to calculate the probability"
   ]
  },
  {
   "cell_type": "code",
   "metadata": {
    "ExecuteTime": {
     "end_time": "2024-10-17T23:23:35.611305Z",
     "start_time": "2024-10-17T23:23:35.607502Z"
    }
   },
   "source": [
    "def probability_range_improved(low_range, high_range, minimum, maximum):\n",
    "    if not all(isinstance(arg, (int, float)) for arg in [low_range, high_range, minimum, maximum]):\n",
    "        return None;\n",
    "\n",
    "    return abs(high_range - low_range) / (maximum - minimum)"
   ],
   "outputs": [],
   "execution_count": 23
  },
  {
   "cell_type": "markdown",
   "metadata": {},
   "source": "Run the next cell to check your results."
  },
  {
   "cell_type": "code",
   "metadata": {
    "ExecuteTime": {
     "end_time": "2024-10-17T23:23:37.608475Z",
     "start_time": "2024-10-17T23:23:37.603644Z"
    }
   },
   "source": [
    "# Test1\n",
    "\n",
    "assert probability_range_improved('a', 0, -100, 500) is None\n",
    "assert probability_range_improved(5, 'b', -100, 500) is None\n",
    "assert \"{0:.2f}\".format(probability_range_improved(25, 700, 5, 800)) == '0.85'\n",
    "assert \"{0:.2f}\".format(probability_range_improved(700, 25, 5, 800)) == '0.85'\n",
    "\n",
    "print('Well done!')"
   ],
   "outputs": [
    {
     "name": "stdout",
     "output_type": "stream",
     "text": [
      "Well done!\n"
     ]
    }
   ],
   "execution_count": 24
  },
  {
   "cell_type": "markdown",
   "metadata": {},
   "source": [
    "# Task Three\n",
    "\n",
    "Check that the user has only inputted low_range and high_range values that are in between the allowed minimum and maximum. If an input is out of the allowed range, return None. \n",
    "\n",
    "Hint: Use your code from Task One to calculate the probability"
   ]
  },
  {
   "cell_type": "code",
   "metadata": {
    "ExecuteTime": {
     "end_time": "2024-10-17T23:15:40.962543Z",
     "start_time": "2024-10-17T23:15:40.960080Z"
    }
   },
   "source": [
    "def probability_range_improved(low_range, high_range, minimum, maximum):\n",
    "    \n",
    "    if low_range < minimum or high_range > maximum or low_range > high_range or minimum >= maximum:\n",
    "        return None\n",
    "    \n",
    "    return abs(high_range - low_range) / (maximum - minimum)\n"
   ],
   "outputs": [],
   "execution_count": 17
  },
  {
   "cell_type": "markdown",
   "metadata": {},
   "source": [
    "Run the next code cell to check your results."
   ]
  },
  {
   "cell_type": "code",
   "metadata": {
    "ExecuteTime": {
     "end_time": "2024-10-17T23:20:12.348292Z",
     "start_time": "2024-10-17T23:20:12.343493Z"
    }
   },
   "source": [
    "# Test 2:\n",
    "assert probability_range_improved(-100, 300, 100, 500) is None\n",
    "assert probability_range_improved(105, 700, 100, 500) is None\n",
    "assert \"{0:.2f}\".format(probability_range_improved(25, 700, 5, 800)) == '0.85'\n",
    "assert \"{0:.2f}\".format(probability_range_improved(high_range=700,low_range= 25, minimum=5, maximum=800)) == '0.85'\n",
    "assert \"{0:.2f}\".format(probability_range_improved(25, 71, 5, 800)) is not None\n",
    "print('Awesome!')"
   ],
   "outputs": [
    {
     "name": "stdout",
     "output_type": "stream",
     "text": [
      "Awesome!\n"
     ]
    }
   ],
   "execution_count": 21
  },
  {
   "cell_type": "markdown",
   "metadata": {},
   "source": [
    "# Task Four\n",
    "\n",
    "Take all of your work from task one, two and three. Put them into one final function."
   ]
  },
  {
   "cell_type": "code",
   "metadata": {
    "ExecuteTime": {
     "end_time": "2024-10-17T23:32:55.129749Z",
     "start_time": "2024-10-17T23:32:55.123856Z"
    }
   },
   "source": [
    "def probability_range_improved(low_range, high_range, minimum, maximum):\n",
    "\n",
    "    if not all(isinstance(arg, (int, float)) for arg in [low_range, high_range, minimum, maximum]):\n",
    "        return None\n",
    "\n",
    "    if any(arg<0 for arg in [low_range, high_range, minimum, maximum]):\n",
    "        return None\n",
    "    \n",
    "    if low_range < minimum or high_range > maximum or low_range > high_range or minimum >= maximum:\n",
    "        return None\n",
    "    \n",
    "    return abs(high_range - low_range) / (maximum - minimum)\n"
   ],
   "outputs": [],
   "execution_count": 27
  },
  {
   "cell_type": "markdown",
   "metadata": {},
   "source": [
    "Run the cell below. If there are no AssertionErrors, then your code runs as expected. In Python, assert checks whether a statement\n",
    "resolves to True or False"
   ]
  },
  {
   "cell_type": "code",
   "metadata": {
    "ExecuteTime": {
     "end_time": "2024-10-17T23:33:50.826936Z",
     "start_time": "2024-10-17T23:33:50.821488Z"
    }
   },
   "source": [
    "assert probability_range_improved('a', 0, -100, 500) is None\n",
    "assert probability_range_improved(0, 'b', -100, 500) is None\n",
    "assert probability_range_improved(-100, 300, 100, 500) is None\n",
    "assert probability_range_improved(105, 700, 100, 500) is None\n",
    "assert \"{0:.2f}\".format(probability_range_improved(25, 700, 5, 800)) == '0.85'\n",
    "assert probability_range_improved(700, 25, 5, 800) is None\n",
    "print('You got the results we were looking for!')"
   ],
   "outputs": [
    {
     "name": "stdout",
     "output_type": "stream",
     "text": [
      "You got the results we were looking for!\n"
     ]
    }
   ],
   "execution_count": 29
  }
 ],
 "metadata": {
  "kernelspec": {
   "display_name": "Python 3",
   "language": "python",
   "name": "python3"
  },
  "language_info": {
   "codemirror_mode": {
    "name": "ipython",
    "version": 3
   },
   "file_extension": ".py",
   "mimetype": "text/x-python",
   "name": "python",
   "nbconvert_exporter": "python",
   "pygments_lexer": "ipython3",
   "version": "3.6.3"
  }
 },
 "nbformat": 4,
 "nbformat_minor": 2
}
