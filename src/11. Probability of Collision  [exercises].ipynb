{
 "cells": [
  {
   "cell_type": "markdown",
   "metadata": {
    "collapsed": true
   },
   "source": [
    "# Probability of Collision [exercise]\n",
    "\n",
    "The truth table shown above represents the probability of two cars colliding at an intersection if they both attempt a maneuver at the same time. If Car 1 goes straight and car two goes left, for example, there is a probability of collision of 0.25."
   ]
  },
  {
   "cell_type": "code",
   "execution_count": null,
   "metadata": {},
   "outputs": [],
   "source": [
    "\n",
    "# \\  Car 1|\n",
    "#   \\     |\n",
    "#     \\   |\n",
    "# Car 2 \\ |  LEFT  | STRAIGHT | RIGHT\n",
    "# ___________________________________\n",
    "#  LEFT  |  0.5   |  0.25    | 0.1\n",
    "# STRAIGHT|  0.25  |  0.02    | 0.1\n",
    "# RIGHT  |  0.1   |  0.1     | 0.01"
   ]
  },
  {
   "cell_type": "code",
   "execution_count": null,
   "metadata": {},
   "outputs": [],
   "source": [
    "def probability_of_collision(car_1, car_2):\n",
    "    \"\"\"\n",
    "    Calculate the probablity of a collision based on the car turns\n",
    "    Args:\n",
    "        car_1 (string): The turning direction of car_1\n",
    "        car_2 (string): The turning direction of car_2\n",
    "        \n",
    "    Returns:\n",
    "        float: the probability of a collision\n",
    "    \"\"\"\n",
    "    \n",
    "    probability = 0.0 # you should change this value based on the directions.\n",
    "    \n",
    "    \n",
    "    if car_1 == \"L\":\n",
    "        # Case Car1 L and Car2 L\n",
    "        if car_2 == \"L\":\n",
    "            probability = 0.5\n",
    "        # Case Car1 L and Car2 S    \n",
    "        elif car_2 == \"S\":\n",
    "            probability = 0.25\n",
    "        # Case Car1 L and Car2 R (this is all other possible cases)\n",
    "        else:\n",
    "            probability = 0.1\n",
    "        \n",
    "    elif car_1 == \"S\":\n",
    "        # Case Car1 S and Car2 L\n",
    "        if car_2 == \"L\":\n",
    "            probability = 0.25\n",
    "        # Case Car1 S and Car2 S\n",
    "        elif car_2 == \"S\":\n",
    "            probability = 0.02\n",
    "        # Case Car1 S and Car2 R (this is all other possible cases)\n",
    "        else:\n",
    "            probability = 0.1\n",
    "        \n",
    "    else: # Car1 R\n",
    "        # Case Car1 R and Car2 L\n",
    "        if car_2 == \"L\":\n",
    "            probability = 0.1\n",
    "        # Case Car1 R and Car2 S\n",
    "        elif car_2 == \"S\":\n",
    "            probability = 0.1\n",
    "        # Case Car1 R and Car2 R (this is all other possible cases)\n",
    "        else:\n",
    "            probability = 0.01\n",
    "        \n",
    "    \n",
    "    return probability\n",
    "    \n",
    "def test():\n",
    "    num_correct = 0\n",
    "    \n",
    "    p1 = probability_of_collision(\"L\", \"L\")\n",
    "    if p1 == 0.5:\n",
    "        num_correct += 1\n",
    "    \n",
    "    p2 = probability_of_collision(\"L\", \"R\")\n",
    "    if p2 == 0.1:\n",
    "        num_correct += 1\n",
    "    \n",
    "    p3 = probability_of_collision(\"L\", \"S\")\n",
    "    if p3 == 0.25:\n",
    "        num_correct += 1\n",
    "    \n",
    "    p4 = probability_of_collision(\"S\", \"R\")\n",
    "    if p4 == 0.1:\n",
    "        num_correct += 1\n",
    "    \n",
    "    print(\"You got\", num_correct, \"out of 4 correct\")\n",
    "    \n",
    "test()"
   ]
  },
  {
   "cell_type": "code",
   "execution_count": null,
   "metadata": {},
   "outputs": [],
   "source": []
  },
  {
   "cell_type": "code",
   "execution_count": null,
   "metadata": {
    "collapsed": true
   },
   "outputs": [],
   "source": [
    "   "
   ]
  }
 ],
 "metadata": {
  "kernelspec": {
   "display_name": "Python 3",
   "language": "python",
   "name": "python3"
  },
  "language_info": {
   "codemirror_mode": {
    "name": "ipython",
    "version": 3
   },
   "file_extension": ".py",
   "mimetype": "text/x-python",
   "name": "python",
   "nbconvert_exporter": "python",
   "pygments_lexer": "ipython3",
   "version": "3.6.3"
  }
 },
 "nbformat": 4,
 "nbformat_minor": 2
}