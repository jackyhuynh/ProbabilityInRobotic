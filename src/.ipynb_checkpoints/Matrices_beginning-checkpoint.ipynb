{
 "cells": [
  {
   "cell_type": "markdown",
   "metadata": {},
   "source": [
    "# Coding Matrices\n",
    "Here are a few exercises to get you started with coding matrices. The exercises start off with vectors and then get more challenging\n",
    "\n",
    "Vectors"
   ]
  },
  {
   "cell_type": "code",
   "execution_count": null,
   "metadata": {},
   "outputs": [],
   "source": []
  },
  {
   "cell_type": "code",
   "execution_count": null,
   "metadata": {},
   "outputs": [],
   "source": [
    "# TODO: Assign the vector <5, 10, 2, 6, 1> to the variable v\n",
    "v = []"
   ]
  },
  {
   "cell_type": "code",
   "execution_count": null,
   "metadata": {},
   "outputs": [],
   "source": [
    "### TODO: Assign the following matrix to the variable m\n",
    "### 8 7 1 2 3\n",
    "### 1 5 2 9 0\n",
    "### 8 2 2 4 1\n",
    "\n",
    "m = [[8, 7, 1, 2, 3],\n",
    "    [1, 5, 2, 9, 0],\n",
    "    [8, 2, 2, 4, 1]]"
   ]
  },
  {
   "cell_type": "code",
   "execution_count": null,
   "metadata": {},
   "outputs": [],
   "source": [
    "### TODO: In matrix m, change the value \n",
    "###       in the second row last column from 0 to 5\n",
    "### Hint: You do not need to rewrite the entire matrix\n",
    "m[1][4]=5"
   ]
  },
  {
   "cell_type": "code",
   "execution_count": 7,
   "metadata": {},
   "outputs": [],
   "source": [
    "# Get row return the row of an matrices\n",
    "def get_row(matrix, row):\n",
    "    return matrix[row]"
   ]
  },
  {
   "cell_type": "code",
   "execution_count": 1,
   "metadata": {},
   "outputs": [],
   "source": [
    "### TODO: Write a function that receives a matrix and a column number.\n",
    "###       the output should be the column in the form of a list\n",
    "\n",
    "\n",
    "### Example input:\n",
    "# matrix = [\n",
    "#    [5, 9, 11, 2],\n",
    "#    [3, 2, 99, 3],\n",
    "#    [7, 1, 8, 2]\n",
    "# ]\n",
    "#\n",
    "# column_number = 1\n",
    "\n",
    "### Example output:\n",
    "# [9, 2, 1]\n",
    "#\n",
    "\n",
    "def get_column(matrix, column_number):\n",
    "    \n",
    "    column = []\n",
    "    for i in range(len(matrix)):\n",
    "        for j in range(len(matrix[i])):\n",
    "            if j == column_number:\n",
    "                column.append(matrix[i][j])\n",
    "    return column"
   ]
  },
  {
   "cell_type": "code",
   "execution_count": 2,
   "metadata": {},
   "outputs": [],
   "source": [
    "### TODO: Run this code to test your get_column function\n",
    "assert get_column([[1, 2, 4], \n",
    "                   [7, 8, 1], \n",
    "                   [5, 2, 1]], 1) == [2, 8, 2]\n",
    "\n",
    "assert get_column([[5]], 0) == [5]"
   ]
  },
  {
   "cell_type": "code",
   "execution_count": 3,
   "metadata": {},
   "outputs": [],
   "source": [
    "### TODO: Write a function called dot_product() that\n",
    "###       has two vectors as inputs and outputs the dot product of the \n",
    "###       two vectors. First, you will need to do element-wise\n",
    "###       multiplication and then sum the results. \n",
    "\n",
    "### HINT: You wrote this function previously in the vector coding\n",
    "###        exercises\n",
    "\n",
    "def dot_product(vector_one, vector_two):\n",
    "    if (len(vector_one) != len(vector_two)):\n",
    "        return \"vector size is not equal\"\n",
    "    sum = 0\n",
    "    for i in range(len(vector_one)):\n",
    "        sum += vector_one[i]*vector_two[i]\n",
    "    return sum"
   ]
  },
  {
   "cell_type": "code",
   "execution_count": 9,
   "metadata": {},
   "outputs": [],
   "source": [
    "### TODO: Run this cell to test your results\n",
    "\n",
    "assert dot_product([4, 5, 1], [2, 1, 5]) == 18\n",
    "assert dot_product([6], [7]) == 42"
   ]
  },
  {
   "cell_type": "code",
   "execution_count": 5,
   "metadata": {},
   "outputs": [],
   "source": [
    "### TODO: Write a function called matrix_multiplication that takes\n",
    "###       two matrices,multiplies them together and then returns\n",
    "###       the results\n",
    "###       \n",
    "###       Make sure that your function can handle matrices that contain\n",
    "###       only one row or one column. For example,\n",
    "###       multiplying two matrices of size (4x1)x(1x4) should return a\n",
    "###       4x4 matrix\n",
    "\n",
    "def matrix_multiplication(matrixA, matrixB):\n",
    "    \n",
    "    ### TODO: store the number of rows in A and the number\n",
    "    ###       of columns in B. This will be the size of the output\n",
    "    ###       matrix\n",
    "    ### HINT: The len function in Python will be helpful\n",
    "    m_rows = len(matrixA)\n",
    "    \n",
    "    p_columns= len(matrixB)\n",
    "\n",
    "    # empty list that will hold the product of AxB\n",
    "    result = []\n",
    "    \n",
    "    for i in range(m_rows):\n",
    "        row_result = []\n",
    "        \n",
    "        # Get the row of first matrices\n",
    "        vector_one = get_row(matrixA,i)\n",
    "        for j in range(p_columns):\n",
    "        \n",
    "            # Get each column of the second matrices by j index\n",
    "            vector_two = get_column(matrixB,j)\n",
    "            row_result.append(dot_product(vector_one,vector_two))\n",
    "                      \n",
    "        result.append(row_result)\n",
    "    \n",
    "    \n",
    "    return result"
   ]
  },
  {
   "cell_type": "code",
   "execution_count": 8,
   "metadata": {},
   "outputs": [
    {
     "name": "stdout",
     "output_type": "stream",
     "text": [
      "[[13, -9], [37, -27]]\n"
     ]
    }
   ],
   "source": [
    "m5 = ([\n",
    "        [1,2,3],\n",
    "        [4,5,6]\n",
    "        ])\n",
    "\n",
    "m6 = ([\n",
    "        [7,-2],\n",
    "        [-3,-5],\n",
    "        [4,1]\n",
    "        ])\n",
    "m7=matrix_multiplication(m5, m6)\n",
    "print(m7)"
   ]
  }
 ],
 "metadata": {
  "kernelspec": {
   "display_name": "Python 3",
   "language": "python",
   "name": "python3"
  },
  "language_info": {
   "codemirror_mode": {
    "name": "ipython",
    "version": 3
   },
   "file_extension": ".py",
   "mimetype": "text/x-python",
   "name": "python",
   "nbconvert_exporter": "python",
   "pygments_lexer": "ipython3",
   "version": "3.8.5"
  }
 },
 "nbformat": 4,
 "nbformat_minor": 4
}
