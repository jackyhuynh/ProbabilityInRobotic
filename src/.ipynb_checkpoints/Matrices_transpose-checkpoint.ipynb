{
 "cells": [
  {
   "cell_type": "markdown",
   "metadata": {},
   "source": [
    "# Transpose of a Matrix\n",
    "\n",
    "In this set of exercises, you will work with the transpose of a matrix.\n",
    "Your first task is to write a function that takes the transpose of a matrix. Think about how to use nested for loops efficiently.\n",
    "The second task will be to write a new matrix multiplication function that takes advantage of your matrix transposition function."
   ]
  },
  {
   "cell_type": "code",
   "execution_count": 2,
   "metadata": {},
   "outputs": [],
   "source": [
    "### TODO: Write a function called transpose() that \n",
    "###       takes in a matrix and outputs the transpose of the matrix\n",
    "\n",
    "def get_column(matrix, column_number):  \n",
    "    column = []\n",
    "    for i in range(len(matrix)):\n",
    "        for j in range(len(matrix[i])):\n",
    "            if j == column_number:\n",
    "                column.append(matrix[i][j])\n",
    "    return column\n",
    "\n",
    "def transpose(matrix):\n",
    "    matrix_transpose = []\n",
    "    new_row = len(matrix[0]) \n",
    "    for i in range(new_row):\n",
    "        matrix_transpose.append(get_column(matrix,i))\n",
    "        \n",
    "    return matrix_transpose"
   ]
  },
  {
   "cell_type": "code",
   "execution_count": 3,
   "metadata": {},
   "outputs": [],
   "source": [
    "### TODO: Run the code in the cell below. If there is no \n",
    "###       output, then your answers were as expected\n",
    "\n",
    "assert transpose([[5, 4, 1, 7], [2, 1, 3, 5]]) == [[5, 2], [4, 1], [1, 3], [7, 5]]\n",
    "assert transpose([[5]]) == [[5]]\n",
    "assert transpose([[5, 3, 2], [7, 1, 4], [1, 1, 2], [8, 9, 1]]) == [[5, 7, 1, 8], [3, 1, 1, 9], [2, 4, 2, 1]]\n"
   ]
  },
  {
   "cell_type": "markdown",
   "metadata": {},
   "source": [
    "# Matrix Multiplication\n",
    "Now that you have your transpose function working, write a matrix multiplication function that takes advantage of the transpose.\n",
    "\n",
    "As part of the matrix multiplication code, you might want to re-use your dot product function from the matrix multiplication exercises. But you won't need your get_row and get_column functions anymore because the tranpose essentially takes care of turning columns into row vectors.\n",
    "\n",
    "Remember that if matrix A is mxn and matrix B is nxp, then the resulting product will be mxp."
   ]
  },
  {
   "cell_type": "code",
   "execution_count": null,
   "metadata": {},
   "outputs": [],
   "source": [
    "### TODO: Write a function called matrix_multiplication() that\n",
    "###       takes in two matrices and outputs the product of the two\n",
    "###       matrices\n",
    "\n",
    "### TODO: Copy your dot_product() function here so that you can\n",
    "###       use it in your matrix_multiplication function\n",
    "def dot_product(vector_one, vector_two):\n",
    "    if (len(vector_one) != len(vector_two)):\n",
    "        return \"vector size is not equal\"\n",
    "    sum = 0\n",
    "    for i in range(len(vector_one)):\n",
    "        sum += vector_one[i]*vector_two[i]\n",
    "    return sum\n",
    "\n",
    "def matrix_multiplication(matrixA, matrixB):\n",
    "    product = []\n",
    "    \n",
    "    # Calll transpose to flip the matrices\n",
    "    matrixB = transpose(matrixB)\n",
    "    \n",
    "    # loop over the new magtrices\n",
    "    for i in range(len(matrixA)):\n",
    "        new_row = [] # clear new_row as every iterate\n",
    "        row1 = matrixA[i] # each row of matrices1\n",
    "        for j in range(len(matrixB)):\n",
    "            row2 = matrixB[j] # each row of matrices2\n",
    "            \n",
    "            new_row.append(dot_product(row1, row2))\n",
    "        product.append(new_row)  \n",
    "    \n",
    "    \n",
    "    ## TODO:\n",
    "    return product"
   ]
  },
  {
   "cell_type": "code",
   "execution_count": null,
   "metadata": {},
   "outputs": [],
   "source": [
    "# Run the code in the cell below to test the implementation.\n",
    "\n",
    "assert matrix_multiplication([[5, 3, 1], \n",
    "                              [6, 2, 7]], \n",
    "                             [[4, 2], \n",
    "                              [8, 1], \n",
    "                              [7, 4]]) == [[51, 17], \n",
    "                                           [89, 42]]\n",
    "\n",
    "assert matrix_multiplication([[5]], [[4]]) == [[20]]\n",
    "\n",
    "assert matrix_multiplication([[2, 8, 1, 2, 9],\n",
    "                             [7, 9, 1, 10, 5],\n",
    "                             [8, 4, 11, 98, 2],\n",
    "                             [5, 5, 4, 4, 1]], \n",
    "                             [[4], \n",
    "                              [2], \n",
    "                              [17], \n",
    "                              [80], \n",
    "                              [2]]) == [[219], [873], [8071], [420]]\n",
    "\n",
    "\n",
    "assert matrix_multiplication([[2, 8, 1, 2, 9],\n",
    "                             [7, 9, 1, 10, 5],\n",
    "                             [8, 4, 11, 98, 2],\n",
    "                             [5, 5, 4, 4, 1]], \n",
    "                             [[4, 1, 2], \n",
    "                              [2, 3, 1], \n",
    "                              [17, 8, 1], \n",
    "                              [1, 3, 0], \n",
    "                              [2, 1, 4]]) == [[61, 49, 49], [83, 77, 44], [329, 404, 39], [104, 65, 23]]"
   ]
  },
  {
   "cell_type": "markdown",
   "metadata": {},
   "source": [
    "# Identity Matrix\n",
    "Write a function called identity_matrix that outputs an identity matrix of size n.\n",
    "\n",
    "### INPUT\n",
    "n - size of the Identity matrix\n",
    "### OUTPUT\n",
    "identity matrix as a list of lists"
   ]
  },
  {
   "cell_type": "code",
   "execution_count": null,
   "metadata": {},
   "outputs": [],
   "source": [
    "def identity_matrix(n):\n",
    "    #\n",
    "    if (n == 0):\n",
    "        print(\"Return an empty matrix. /n\")\n",
    "        return []\n",
    "        \n",
    "    # travel through the list\n",
    "    identity = []\n",
    "    \n",
    "    # travel the for loop\n",
    "    for i in range(n):\n",
    "        # Empty the row\n",
    "        new_row = []\n",
    "        for j in range(n):\n",
    "            if i == j:\n",
    "                # When i index equal to j index, assign the value to 1\n",
    "                new_row.append(1) \n",
    "            else:\n",
    "                # For other indexes, assign 0\n",
    "                new_row.append(0)\n",
    "        \n",
    "        # Append the new create row to the list\n",
    "        identity.append(new_row)\n",
    "\n",
    "    return identity"
   ]
  },
  {
   "cell_type": "code",
   "execution_count": null,
   "metadata": {},
   "outputs": [],
   "source": [
    "# TODO: Test\n",
    "\n",
    "assert identity_matrix(1) == [[1]]\n",
    "\n",
    "assert identity_matrix(2) == [[1, 0], \n",
    "                             [0, 1]]\n",
    "\n",
    "assert identity_matrix(3) == [[1, 0, 0],\n",
    "                             [0, 1, 0],\n",
    "                             [0, 0, 1]]\n",
    "\n",
    "assert identity_matrix(4) == [[1, 0, 0, 0],\n",
    "                             [0, 1, 0, 0],\n",
    "                             [0, 0, 1, 0],\n",
    "                             [0, 0, 0, 1]]"
   ]
  }
 ],
 "metadata": {
  "kernelspec": {
   "display_name": "Python 3",
   "language": "python",
   "name": "python3"
  },
  "language_info": {
   "codemirror_mode": {
    "name": "ipython",
    "version": 3
   },
   "file_extension": ".py",
   "mimetype": "text/x-python",
   "name": "python",
   "nbconvert_exporter": "python",
   "pygments_lexer": "ipython3",
   "version": "3.8.5"
  }
 },
 "nbformat": 4,
 "nbformat_minor": 4
}
